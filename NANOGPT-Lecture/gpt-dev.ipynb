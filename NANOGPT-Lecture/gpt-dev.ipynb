{
 "cells": [
  {
   "cell_type": "code",
   "execution_count": 3,
   "metadata": {},
   "outputs": [
    {
     "name": "stdout",
     "output_type": "stream",
     "text": [
      "  % Total    % Received % Xferd  Average Speed   Time    Time     Time  Current\n",
      "                                 Dload  Upload   Total   Spent    Left  Speed\n",
      "100 1089k  100 1089k    0     0  4676k      0 --:--:-- --:--:-- --:--:-- 4674k\n"
     ]
    }
   ],
   "source": [
    "#load the train dataset - tiny shakespeare\n",
    "!curl -L https://raw.githubusercontent.com/karpathy/char-rnn/master/data/tinyshakespeare/input.txt -o input.txt\n"
   ]
  },
  {
   "cell_type": "code",
   "execution_count": 4,
   "metadata": {},
   "outputs": [],
   "source": [
    "#read the data\n",
    "with open('input.txt', 'r', encoding='utf-8') as f:\n",
    "    text = f.read()"
   ]
  },
  {
   "cell_type": "code",
   "execution_count": 5,
   "metadata": {},
   "outputs": [
    {
     "name": "stdout",
     "output_type": "stream",
     "text": [
      "lengt of the file 1115394\n"
     ]
    }
   ],
   "source": [
    "print('lengt of the file', len(text))"
   ]
  },
  {
   "cell_type": "code",
   "execution_count": 6,
   "metadata": {},
   "outputs": [
    {
     "name": "stdout",
     "output_type": "stream",
     "text": [
      "First Citizen:\n",
      "Before we proceed any further, hear me speak.\n",
      "\n",
      "All:\n",
      "Speak, speak.\n",
      "\n",
      "First Citizen:\n",
      "You are all resolved rather to die than to famish?\n",
      "\n",
      "All:\n",
      "Resolved. resolved.\n",
      "\n",
      "First Citizen:\n",
      "First, you know Caius Marcius is chief enemy to the people.\n",
      "\n",
      "All:\n",
      "We know't, we know't.\n",
      "\n",
      "First Citizen:\n",
      "Let us kill him, and we'll have corn at our own price.\n",
      "Is't a verdict?\n",
      "\n",
      "All:\n",
      "No more talking on't; let it be done: away, away!\n",
      "\n",
      "Second Citizen:\n",
      "One word, good citizens.\n",
      "\n",
      "First Citizen:\n",
      "We are accounted poor citizens, the patricians good.\n",
      "What authority surfeits on would relieve us: if they\n",
      "would yield us but the superfluity, while it were\n",
      "wholesome, we might guess they relieved us humanely;\n",
      "but they think we are too dear: the leanness that\n",
      "afflicts us, the object of our misery, is as an\n",
      "inventory to particularise their abundance; our\n",
      "sufferance is a gain to them Let us revenge this with\n",
      "our pikes, ere we become rakes: for the gods know I\n",
      "speak this in hunger for bread, not in thirst for revenge.\n",
      "\n",
      "\n"
     ]
    }
   ],
   "source": [
    "print(text[:1000])"
   ]
  },
  {
   "cell_type": "code",
   "execution_count": 7,
   "metadata": {},
   "outputs": [
    {
     "name": "stdout",
     "output_type": "stream",
     "text": [
      "\n",
      " !$&',-.3:;?ABCDEFGHIJKLMNOPQRSTUVWXYZabcdefghijklmnopqrstuvwxyz\n",
      "65\n"
     ]
    }
   ],
   "source": [
    "chars = sorted(set(text))\n",
    "vocab_size = len(chars)\n",
    "print(''.join(chars))\n",
    "print(vocab_size)"
   ]
  },
  {
   "cell_type": "code",
   "execution_count": 8,
   "metadata": {},
   "outputs": [
    {
     "name": "stdout",
     "output_type": "stream",
     "text": [
      "[18, 56, 39, 52, 49, 1, 58, 46, 43, 1, 58, 39, 52, 49]\n",
      "Frank the tank\n"
     ]
    }
   ],
   "source": [
    "stoi = { c:i for i, c in enumerate(chars) }\n",
    "itos = { i:c for i, c in enumerate(chars)}\n",
    "s : str\n",
    "encode = lambda s : [ stoi[x] for x in s] #encoder: Take a string and convert it do an integer \n",
    "it : list\n",
    "decode  = lambda it : ''.join([itos[x] for x in it]) #decoder: take a list of integers, returns a string\n",
    "\n",
    "print(encode('Frank the tank'))\n",
    "print(decode(encode('Frank the tank')))"
   ]
  },
  {
   "cell_type": "code",
   "execution_count": 9,
   "metadata": {},
   "outputs": [
    {
     "name": "stdout",
     "output_type": "stream",
     "text": [
      "torch.Size([1115394])\n",
      "tensor([18, 47, 56, 57, 58,  1, 15, 47, 58, 47, 64, 43, 52, 10,  0, 14, 43, 44,\n",
      "        53, 56, 43,  1, 61, 43,  1, 54, 56, 53, 41, 43, 43, 42,  1, 39, 52, 63,\n",
      "         1, 44, 59, 56, 58, 46, 43, 56,  6,  1, 46, 43, 39, 56,  1, 51, 43,  1,\n",
      "        57, 54, 43, 39, 49,  8,  0,  0, 13, 50, 50, 10,  0, 31, 54, 43, 39, 49,\n",
      "         6,  1, 57, 54, 43, 39, 49,  8,  0,  0, 18, 47, 56, 57, 58,  1, 15, 47,\n",
      "        58, 47, 64, 43, 52, 10,  0, 37, 53, 59])\n"
     ]
    }
   ],
   "source": [
    "#encode the complete text\n",
    "import torch\n",
    "data : torch.tensor = torch.tensor(encode(text), dtype=torch.long)\n",
    "print(data.shape)\n",
    "print(data[:100])"
   ]
  },
  {
   "cell_type": "code",
   "execution_count": 10,
   "metadata": {},
   "outputs": [],
   "source": [
    "#split of train and val data\n",
    "n = int(0.9 * (len(data)))\n",
    "train_data = data[:n]\n",
    "val_data = data[n:]"
   ]
  },
  {
   "cell_type": "code",
   "execution_count": 11,
   "metadata": {},
   "outputs": [
    {
     "data": {
      "text/plain": [
       "tensor([18, 47, 56, 57, 58,  1, 15, 47, 58])"
      ]
     },
     "execution_count": 11,
     "metadata": {},
     "output_type": "execute_result"
    }
   ],
   "source": [
    "block_size = 8\n",
    "train_data[:block_size+1]"
   ]
  },
  {
   "cell_type": "code",
   "execution_count": 12,
   "metadata": {},
   "outputs": [
    {
     "data": {
      "text/plain": [
       "(tensor([[26, 16, 13, 10,  0, 27,  1, 42],\n",
       "         [63,  6,  1, 57, 47, 56, 10,  0],\n",
       "         [ 1, 46, 43, 56,  6,  0,  5, 41],\n",
       "         [43, 63,  1, 40, 53, 53, 58,  7]]),\n",
       " tensor([[16, 13, 10,  0, 27,  1, 42, 43],\n",
       "         [ 6,  1, 57, 47, 56, 10,  0, 57],\n",
       "         [46, 43, 56,  6,  0,  5, 41, 59],\n",
       "         [63,  1, 40, 53, 53, 58,  7, 46]]))"
      ]
     },
     "execution_count": 12,
     "metadata": {},
     "output_type": "execute_result"
    }
   ],
   "source": [
    "batch_size : int = 4 #number of parallel blocks \n",
    "block_size : int = 8 #number of characters per block\n",
    "torch.manual_seed(1337)\n",
    "def get_batch(split: str) -> tuple[torch.tensor, torch.tensor] : \n",
    "    data = train_data if split == 'train' else val_data\n",
    "    ix : torch.tensor = torch.randint(len(data)-batch_size, (batch_size,))\n",
    "    x : torch.Tuple[torch.Tensor, ] = torch.stack([data[i:i+block_size] for i in ix ])\n",
    "    y : torch.Tuple[torch.Tensor, ] =  torch.stack([data[i+1:i+block_size+1] for i in ix ])\n",
    "    return x, y\n",
    "get_batch('val')"
   ]
  },
  {
   "cell_type": "code",
   "execution_count": 13,
   "metadata": {},
   "outputs": [
    {
     "name": "stdout",
     "output_type": "stream",
     "text": [
      "inputs: torch.Size([4, 8])\n",
      "tensor([[43,  1, 39, 52,  1, 47, 52, 41],\n",
      "        [53, 58, 46,  1, 40, 59, 56, 52],\n",
      "        [53,  1, 40, 43,  1, 63, 53, 59],\n",
      "        [ 1, 56, 43, 45, 39, 56, 42,  8]])\n",
      "targets: torch.Size([4, 8])\n",
      "tensor([[ 1, 39, 52,  1, 47, 52, 41, 46],\n",
      "        [58, 46,  1, 40, 59, 56, 52,  8],\n",
      "        [ 1, 40, 43,  1, 63, 53, 59, 56],\n",
      "        [56, 43, 45, 39, 56, 42,  8,  0]])\n",
      "input [43] target is 1\n",
      "input [43, 1] target is 39\n",
      "input [43, 1, 39] target is 52\n",
      "input [43, 1, 39, 52] target is 1\n",
      "input [43, 1, 39, 52, 1] target is 47\n",
      "input [43, 1, 39, 52, 1, 47] target is 52\n",
      "input [43, 1, 39, 52, 1, 47, 52] target is 41\n",
      "input [43, 1, 39, 52, 1, 47, 52, 41] target is 46\n",
      "input [53] target is 58\n",
      "input [53, 58] target is 46\n",
      "input [53, 58, 46] target is 1\n",
      "input [53, 58, 46, 1] target is 40\n",
      "input [53, 58, 46, 1, 40] target is 59\n",
      "input [53, 58, 46, 1, 40, 59] target is 56\n",
      "input [53, 58, 46, 1, 40, 59, 56] target is 52\n",
      "input [53, 58, 46, 1, 40, 59, 56, 52] target is 8\n",
      "input [53] target is 1\n",
      "input [53, 1] target is 40\n",
      "input [53, 1, 40] target is 43\n",
      "input [53, 1, 40, 43] target is 1\n",
      "input [53, 1, 40, 43, 1] target is 63\n",
      "input [53, 1, 40, 43, 1, 63] target is 53\n",
      "input [53, 1, 40, 43, 1, 63, 53] target is 59\n",
      "input [53, 1, 40, 43, 1, 63, 53, 59] target is 56\n",
      "input [1] target is 56\n",
      "input [1, 56] target is 43\n",
      "input [1, 56, 43] target is 45\n",
      "input [1, 56, 43, 45] target is 39\n",
      "input [1, 56, 43, 45, 39] target is 56\n",
      "input [1, 56, 43, 45, 39, 56] target is 42\n",
      "input [1, 56, 43, 45, 39, 56, 42] target is 8\n",
      "input [1, 56, 43, 45, 39, 56, 42, 8] target is 0\n"
     ]
    }
   ],
   "source": [
    "xb, yb = get_batch('train')\n",
    "print(f'inputs: {xb.shape}')\n",
    "print(xb)\n",
    "print(f'targets: {yb.shape}')\n",
    "print(yb)\n",
    "\n",
    "for batch in range(batch_size): #batch dimension\n",
    "    for t in range(block_size): # time dimension\n",
    "        context = xb[batch, :t+1]\n",
    "        print(f'input {context.tolist()} target is {yb[batch,t]}')\n"
   ]
  },
  {
   "cell_type": "code",
   "execution_count": 14,
   "metadata": {},
   "outputs": [
    {
     "data": {
      "text/plain": [
       "<torch._C.Generator at 0x130da08f0>"
      ]
     },
     "execution_count": 14,
     "metadata": {},
     "output_type": "execute_result"
    }
   ],
   "source": [
    "from torch.nn import functional as F\n",
    "import torch.nn as nn\n",
    "torch.manual_seed(1337)"
   ]
  },
  {
   "cell_type": "code",
   "execution_count": 65,
   "metadata": {},
   "outputs": [],
   "source": [
    "class BigramLanguageModel(nn.Module):\n",
    "    def __init__(self, vocab_size : int, *args, **kwargs) -> None:\n",
    "        super().__init__(*args, **kwargs)\n",
    "        #like in makemore each letter and the probality of the next token is stored in the embedding\n",
    "        self.token_embedding_table = nn.Embedding(vocab_size, vocab_size)\n",
    "    \n",
    "    def forward(self, idx, targets=None):\n",
    "#        print(f'idx.shape: {idx.shape}, targets.shape: {targets.shape}')\n",
    "        logits = self.token_embedding_table(idx) #B-Batch, T - Time, C - Channel\n",
    "        #print('logits:', logits)\n",
    "        #why C - 65 ? This a are the class probalities for a certain character\n",
    "        #logits has 4B, 8T, 65C <> Targets is 4B, 8T\n",
    "        if(targets is None):\n",
    "            loss=None\n",
    "        else:\n",
    "            B, T, C = logits.shape\n",
    "            logits = logits.view(B*T, C)\n",
    "    #        print(logits.shape)\n",
    "    #        print('targets', targets)\n",
    "            targets = targets.view(B*T)\n",
    "\n",
    "    #        print(targets.shape)\n",
    "    #        print(targets)\n",
    "            loss = F.cross_entropy(logits, targets)\n",
    "#        print(loss)\n",
    "\n",
    "        return logits, loss\n",
    "    \n",
    "    def generate(self, idx, max_new_tokens):\n",
    "        #ids is (B,T) array of indicies in the current context\n",
    "        for i in range(max_new_tokens):\n",
    "            #predict the next tokens\n",
    "            logits, loos = self(idx)\n",
    "            #after prediction select the most proably next token. We use Softmax for prediction\n",
    "            #focus on the last time step\n",
    "            #print(f'logits shape: {logits.shape}')\n",
    "            logits = logits[:,-1,:] #becomes (B,C)\n",
    "            #print(f'After trans logits shape: {logits.shape}')\n",
    "            probs = F.softmax(logits, dim=-1)\n",
    "            idx_next = torch.multinomial(probs, num_samples=1)\n",
    "            #append sampled index to the running contect\n",
    "            idx = torch.cat((idx, idx_next), dim=1) #(B, B+1)\n",
    "        return idx            "
   ]
  },
  {
   "cell_type": "code",
   "execution_count": 66,
   "metadata": {},
   "outputs": [],
   "source": [
    "m = BigramLanguageModel(vocab_size)\n",
    "out = m(xb, yb)\n"
   ]
  },
  {
   "cell_type": "code",
   "execution_count": 67,
   "metadata": {},
   "outputs": [],
   "source": [
    "testembed = nn.Embedding(10, 3)"
   ]
  },
  {
   "cell_type": "code",
   "execution_count": 68,
   "metadata": {},
   "outputs": [
    {
     "data": {
      "text/plain": [
       "tensor([[-0.5212,  0.6790, -0.5612],\n",
       "        [-0.0085, -0.1171,  1.2822],\n",
       "        [ 0.3471, -0.3520, -0.1387],\n",
       "        [ 0.0459, -0.6033, -0.3042],\n",
       "        [ 0.7840, -0.5271, -0.8057],\n",
       "        [ 0.2760, -0.0936,  0.2109],\n",
       "        [ 1.6794,  0.1600, -0.7944],\n",
       "        [ 0.3471, -0.3520, -0.1387],\n",
       "        [-0.0085, -0.1171,  1.2822],\n",
       "        [ 1.6794,  0.1600, -0.7944],\n",
       "        [ 0.7840, -0.5271, -0.8057]], grad_fn=<EmbeddingBackward0>)"
      ]
     },
     "execution_count": 68,
     "metadata": {},
     "output_type": "execute_result"
    }
   ],
   "source": [
    "testtorch = torch.LongTensor([9,1,2,3,5,6,4,2,1,4,5,])\n",
    "testembed(testtorch)"
   ]
  },
  {
   "cell_type": "code",
   "execution_count": 69,
   "metadata": {},
   "outputs": [
    {
     "name": "stdout",
     "output_type": "stream",
     "text": [
      "torch.Size([32, 8])\n",
      "torch.Size([32, 10])\n",
      "tensor([46, 39, 58, 46,  1, 40, 56, 53, 57, 11])\n",
      "hath bros;\n"
     ]
    }
   ],
   "source": [
    "\n",
    "next_tokens = m.generate(xb,2)\n",
    "print(xb.shape)\n",
    "print(next_tokens.shape)\n",
    "print(next_tokens[1,:])\n",
    "print(decode(next_tokens[1,:].tolist()))\n"
   ]
  },
  {
   "cell_type": "code",
   "execution_count": 70,
   "metadata": {},
   "outputs": [
    {
     "name": "stdout",
     "output_type": "stream",
     "text": [
      "\n",
      "gnoqFi3MLY,csv,Xy&nUgF sAAZlMj\n",
      "yIICMbFaSPSSc$qq;UQg&RTUZ'SlOs!DVdKlcPViMAuzJ'uKPCIBxJ?A:LpTILIwkKC&S\n"
     ]
    }
   ],
   "source": [
    "next_tokens = m.generate(torch.zeros(1,1, dtype=torch.long),100)\n",
    "print(decode(next_tokens[0].tolist()))"
   ]
  },
  {
   "cell_type": "code",
   "execution_count": null,
   "metadata": {},
   "outputs": [],
   "source": []
  },
  {
   "cell_type": "code",
   "execution_count": 71,
   "metadata": {},
   "outputs": [],
   "source": [
    "optimzer : torch.optim.AdamW= torch.optim.AdamW(m.parameters(), lr=1e-3)"
   ]
  },
  {
   "cell_type": "code",
   "execution_count": 79,
   "metadata": {},
   "outputs": [
    {
     "name": "stdout",
     "output_type": "stream",
     "text": [
      "2.6962103843688965\n"
     ]
    }
   ],
   "source": [
    "batch_size = 32\n",
    "for steps in range(1000):\n",
    "    #sample a batch of data\n",
    "    xb, yb = get_batch('train')\n",
    "    logits, loss = m(xb, yb)\n",
    "    \n",
    "    optimzer.zero_grad(set_to_none=None)\n",
    "    loss.backward()\n",
    "    optimzer.step()\n",
    "    \n",
    "print(loss.item())\n",
    "    "
   ]
  },
  {
   "cell_type": "code",
   "execution_count": 80,
   "metadata": {},
   "outputs": [
    {
     "name": "stdout",
     "output_type": "stream",
     "text": [
      "\n",
      "ILO,Vathy'xBEx teinlf lO:.\n",
      "\n",
      "HNIN is w wroTryo;forveZ.\n",
      "Fd.thjurshorshecAQCA'cok:Wechi&Dand.\n",
      "; knthith\n"
     ]
    }
   ],
   "source": [
    "next_tokens = m.generate(torch.zeros(1,1, dtype=torch.long),100)\n",
    "print(decode(next_tokens[0].tolist()))"
   ]
  },
  {
   "cell_type": "code",
   "execution_count": 87,
   "metadata": {},
   "outputs": [
    {
     "name": "stdout",
     "output_type": "stream",
     "text": [
      "torch.Size([65, 65])\n"
     ]
    }
   ],
   "source": [
    "for i in m.parameters():\n",
    "    print(i.shape)\n"
   ]
  },
  {
   "cell_type": "code",
   "execution_count": null,
   "metadata": {},
   "outputs": [],
   "source": []
  }
 ],
 "metadata": {
  "kernelspec": {
   "display_name": "udagen",
   "language": "python",
   "name": "python3"
  },
  "language_info": {
   "codemirror_mode": {
    "name": "ipython",
    "version": 3
   },
   "file_extension": ".py",
   "mimetype": "text/x-python",
   "name": "python",
   "nbconvert_exporter": "python",
   "pygments_lexer": "ipython3",
   "version": "3.11.9"
  }
 },
 "nbformat": 4,
 "nbformat_minor": 2
}
